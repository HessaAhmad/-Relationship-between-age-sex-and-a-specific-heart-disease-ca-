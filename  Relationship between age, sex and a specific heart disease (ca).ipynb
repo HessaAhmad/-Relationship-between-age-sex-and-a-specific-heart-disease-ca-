{
 "cells": [
  {
   "cell_type": "markdown",
   "metadata": {},
   "source": [
    "#  Relationship between age, sex and a specific heart disease (ca)\n",
    "## Name:Hessa ahmad\n"
   ]
  },
  {
   "cell_type": "markdown",
   "metadata": {},
   "source": [
    "# Q1:First question: The table shows the number of cancer cases and healthy controls who smoke and do not smoke. "
   ]
  },
  {
   "cell_type": "code",
   "execution_count": 1,
   "metadata": {},
   "outputs": [
    {
     "data": {
      "text/html": [
       "<table>\n",
       "<thead><tr><th scope=col>cancer</th><th scope=col>smoker</th></tr></thead>\n",
       "<tbody>\n",
       "\t<tr><td>1</td><td>1</td></tr>\n",
       "\t<tr><td>1</td><td>1</td></tr>\n",
       "\t<tr><td>1</td><td>1</td></tr>\n",
       "\t<tr><td>1</td><td>1</td></tr>\n",
       "\t<tr><td>1</td><td>1</td></tr>\n",
       "\t<tr><td>1</td><td>1</td></tr>\n",
       "</tbody>\n",
       "</table>\n"
      ],
      "text/latex": [
       "\\begin{tabular}{r|ll}\n",
       " cancer & smoker\\\\\n",
       "\\hline\n",
       "\t 1 & 1\\\\\n",
       "\t 1 & 1\\\\\n",
       "\t 1 & 1\\\\\n",
       "\t 1 & 1\\\\\n",
       "\t 1 & 1\\\\\n",
       "\t 1 & 1\\\\\n",
       "\\end{tabular}\n"
      ],
      "text/markdown": [
       "\n",
       "| cancer | smoker |\n",
       "|---|---|\n",
       "| 1 | 1 |\n",
       "| 1 | 1 |\n",
       "| 1 | 1 |\n",
       "| 1 | 1 |\n",
       "| 1 | 1 |\n",
       "| 1 | 1 |\n",
       "\n"
      ],
      "text/plain": [
       "  cancer smoker\n",
       "1 1      1     \n",
       "2 1      1     \n",
       "3 1      1     \n",
       "4 1      1     \n",
       "5 1      1     \n",
       "6 1      1     "
      ]
     },
     "metadata": {},
     "output_type": "display_data"
    },
    {
     "data": {
      "text/plain": [
       "      smoker\n",
       "cancer  0  1\n",
       "     0  9  8\n",
       "     1  2 12"
      ]
     },
     "metadata": {},
     "output_type": "display_data"
    }
   ],
   "source": [
    "options(warn=-1)\n",
    "data1=read.csv(\"cancer.csv.csv\")\n",
    "head(data1)\n",
    "attach(data1)\n",
    "xtabs(~cancer+smoker, data=data1)\n",
    "# 0=\"nonsmoker\" , 1=\"smoker\"\n",
    "# 0=\"Healthy\"  ,  1=\"cancer\""
   ]
  },
  {
   "cell_type": "markdown",
   "metadata": {},
   "source": [
    "## 1-Perform the necessary statistical analysis to choose the correct statement :\n",
    "#### a) A person with cancer is 3 times more likely to be a smoker.\n",
    "#### b) A smoker is 7 times more likely to get cancer compared to a non-smoker.\n",
    "#### c) A smoker is 3 times more likely to get cancer compared to a non -smoker.\n",
    "#### d) A person with cancer is 7 times more likely to be a smoker.\n"
   ]
  },
  {
   "cell_type": "markdown",
   "metadata": {},
   "source": [
    "###### Chosse B) Asomker is 7 times more likley to get cancer compared to non-somker "
   ]
  },
  {
   "cell_type": "code",
   "execution_count": 10,
   "metadata": {},
   "outputs": [
    {
     "data": {
      "text/html": [
       "6.75"
      ],
      "text/latex": [
       "6.75"
      ],
      "text/markdown": [
       "6.75"
      ],
      "text/plain": [
       "[1] 6.75"
      ]
     },
     "metadata": {},
     "output_type": "display_data"
    }
   ],
   "source": [
    "OR<-(12/8)/(2/9) # Manual"
   ]
  },
  {
   "cell_type": "code",
   "execution_count": 100,
   "metadata": {},
   "outputs": [
    {
     "name": "stdout",
     "output_type": "stream",
     "text": [
      "           Disease Nondisease Total\n",
      "Exposed         12          8    20\n",
      "Nonexposed       2          9    11\n",
      "Total           14         17    31\n"
     ]
    },
    {
     "data": {
      "text/plain": [
       "\n",
       "\tOdds ratio estimate and its significance probability\n",
       "\n",
       "data:  12 2 8 9\n",
       "p-value = 0.02765\n",
       "95 percent confidence interval:\n",
       "  1.144904 39.795906\n",
       "sample estimates:\n",
       "[1] 6.75\n"
      ]
     },
     "metadata": {},
     "output_type": "display_data"
    }
   ],
   "source": [
    "oddsratio(12,2,8,9)"
   ]
  },
  {
   "cell_type": "code",
   "execution_count": null,
   "metadata": {},
   "outputs": [],
   "source": [
    "as we see 6.75 ia an estimate of the odds ratio between cancer and somker,\n",
    "that mean a smoker is more likely to get cancer 6.75 so almost 7  comperd to a non-somker \n",
    "which is mean statement B is the correct statement."
   ]
  },
  {
   "cell_type": "markdown",
   "metadata": {},
   "source": [
    "## 2- At 0.05 level of significance, test for association between cancer status and smoking useing 2 different methods."
   ]
  },
  {
   "cell_type": "code",
   "execution_count": 5,
   "metadata": {},
   "outputs": [
    {
     "data": {
      "text/plain": [
       "\n",
       "Call:\n",
       "glm(formula = cancer ~ smoker, family = \"binomial\", data = data1)\n",
       "\n",
       "Deviance Residuals: \n",
       "    Min       1Q   Median       3Q      Max  \n",
       "-1.3537  -0.9936  -0.6335   1.0108   1.8465  \n",
       "\n",
       "Coefficients:\n",
       "            Estimate Std. Error z value Pr(>|z|)  \n",
       "(Intercept)  -1.5041     0.7817  -1.924   0.0544 .\n",
       "smoker        1.9095     0.9052   2.109   0.0349 *\n",
       "---\n",
       "Signif. codes:  0 '***' 0.001 '**' 0.01 '*' 0.05 '.' 0.1 ' ' 1\n",
       "\n",
       "(Dispersion parameter for binomial family taken to be 1)\n",
       "\n",
       "    Null deviance: 42.684  on 30  degrees of freedom\n",
       "Residual deviance: 37.352  on 29  degrees of freedom\n",
       "AIC: 41.352\n",
       "\n",
       "Number of Fisher Scoring iterations: 4\n"
      ]
     },
     "metadata": {},
     "output_type": "display_data"
    }
   ],
   "source": [
    "model_cancer <- glm(cancer~smoker,data=data1 ,family=\"binomial\")\n",
    "summary(model_cancer) #y:cancer #x1:smoker"
   ]
  },
  {
   "cell_type": "markdown",
   "metadata": {},
   "source": [
    "\n",
    "Log(odds)= -1.5041+1.9095x1    testing by use α=0.05\n",
    "x1 this variable , the patient is smoker, is equal to 0 when the patient is non-smoker and 1 when the patient is smoker .thus if we predicting cancer for a non-smoker patient, we get the following equation:\n",
    "cancer = -1.5041+1.9095*0\n",
    "cancer =-1.5041\n",
    "Thus, the log(odds) that a non-smoker has cancer= -1.5041 \n",
    "if we predicting cancer for a smoker patient, we get the following equation:\n",
    "cancer =  -1.5041+1.9095*1\n",
    "cancer =  -1.5041+1.9095 \n",
    "Since this fist term is the log(odds) of a non-smoker having cancer , the second term indicates the increase in the log(odds)by 1.9095  that a smoker has of geting cancer and p-value indicates that it is significant in cancer."
   ]
  },
  {
   "cell_type": "code",
   "execution_count": 7,
   "metadata": {},
   "outputs": [
    {
     "data": {
      "text/plain": [
       "$W\n",
       "[1] 4.449786\n",
       "\n",
       "$pvalue\n",
       "[1] 0.03490561\n",
       "\n",
       "attr(,\"class\")\n",
       "[1] \"wald.test\""
      ]
     },
     "metadata": {},
     "output_type": "display_data"
    }
   ],
   "source": [
    "wald.test(model_cancer,term=2) #method1"
   ]
  },
  {
   "cell_type": "markdown",
   "metadata": {},
   "source": [
    "H0:b1=0 Vs. H1: b1 not equal 0  testing by use α=0.05\n",
    "by 4.449786 from wald test statistic we have p-value=0.03491 whish is less than 0.05 , that is mean there is a association between smoker and cancer."
   ]
  },
  {
   "cell_type": "code",
   "execution_count": 11,
   "metadata": {
    "scrolled": true
   },
   "outputs": [
    {
     "data": {
      "text/html": [
       "<table>\n",
       "<thead><tr><th></th><th scope=col>Df</th><th scope=col>Deviance</th><th scope=col>Resid. Df</th><th scope=col>Resid. Dev</th><th scope=col>Pr(&gt;Chi)</th></tr></thead>\n",
       "<tbody>\n",
       "\t<tr><th scope=row>NULL</th><td>NA        </td><td>      NA  </td><td>30        </td><td>42.68435  </td><td>        NA</td></tr>\n",
       "\t<tr><th scope=row>smoker</th><td> 1        </td><td>5.332816  </td><td>29        </td><td>37.35153  </td><td>0.02092754</td></tr>\n",
       "</tbody>\n",
       "</table>\n"
      ],
      "text/latex": [
       "\\begin{tabular}{r|lllll}\n",
       "  & Df & Deviance & Resid. Df & Resid. Dev & Pr(>Chi)\\\\\n",
       "\\hline\n",
       "\tNULL & NA         &       NA   & 30         & 42.68435   &         NA\\\\\n",
       "\tsmoker &  1         & 5.332816   & 29         & 37.35153   & 0.02092754\\\\\n",
       "\\end{tabular}\n"
      ],
      "text/markdown": [
       "\n",
       "| <!--/--> | Df | Deviance | Resid. Df | Resid. Dev | Pr(>Chi) |\n",
       "|---|---|---|---|---|---|\n",
       "| NULL | NA         |       NA   | 30         | 42.68435   |         NA |\n",
       "| smoker |  1         | 5.332816   | 29         | 37.35153   | 0.02092754 |\n",
       "\n"
      ],
      "text/plain": [
       "       Df Deviance Resid. Df Resid. Dev Pr(>Chi)  \n",
       "NULL   NA       NA 30        42.68435           NA\n",
       "smoker  1 5.332816 29        37.35153   0.02092754"
      ]
     },
     "metadata": {},
     "output_type": "display_data"
    }
   ],
   "source": [
    "anova(model_cancer,test=\"LRT\") #method2"
   ]
  },
  {
   "cell_type": "markdown",
   "metadata": {},
   "source": [
    "H0:b1=0 Vs. H1: b1 not equal 0  testing by use α=0.05\n",
    "by 5.332816 from LRT test statistic with 1 degree o freedom , we have p-value=0.02093 \n",
    "whish is less than 0.05 that is mean there is a association between smoker and cancer."
   ]
  },
  {
   "cell_type": "markdown",
   "metadata": {},
   "source": [
    "_______________________________________________________________________________________________________________________________\n",
    "\n",
    "# Q2: The data below was collected from 87 individuals to study the relationship between age, sex and a specific heart disease (ca)."
   ]
  },
  {
   "cell_type": "code",
   "execution_count": 2,
   "metadata": {},
   "outputs": [
    {
     "data": {
      "text/html": [
       "<table>\n",
       "<thead><tr><th scope=col>sex</th><th scope=col>ca</th><th scope=col>Age</th><th scope=col>ecg</th></tr></thead>\n",
       "<tbody>\n",
       "\t<tr><td>female</td><td>0     </td><td>28    </td><td>low   </td></tr>\n",
       "\t<tr><td>male  </td><td>1     </td><td>42    </td><td>low   </td></tr>\n",
       "\t<tr><td>female</td><td>0     </td><td>46    </td><td>medium</td></tr>\n",
       "\t<tr><td>male  </td><td>0     </td><td>45    </td><td>medium</td></tr>\n",
       "\t<tr><td>female</td><td>0     </td><td>34    </td><td>low   </td></tr>\n",
       "\t<tr><td>male  </td><td>1     </td><td>44    </td><td>low   </td></tr>\n",
       "</tbody>\n",
       "</table>\n"
      ],
      "text/latex": [
       "\\begin{tabular}{r|llll}\n",
       " sex & ca & Age & ecg\\\\\n",
       "\\hline\n",
       "\t female & 0      & 28     & low   \\\\\n",
       "\t male   & 1      & 42     & low   \\\\\n",
       "\t female & 0      & 46     & medium\\\\\n",
       "\t male   & 0      & 45     & medium\\\\\n",
       "\t female & 0      & 34     & low   \\\\\n",
       "\t male   & 1      & 44     & low   \\\\\n",
       "\\end{tabular}\n"
      ],
      "text/markdown": [
       "\n",
       "| sex | ca | Age | ecg |\n",
       "|---|---|---|---|\n",
       "| female | 0      | 28     | low    |\n",
       "| male   | 1      | 42     | low    |\n",
       "| female | 0      | 46     | medium |\n",
       "| male   | 0      | 45     | medium |\n",
       "| female | 0      | 34     | low    |\n",
       "| male   | 1      | 44     | low    |\n",
       "\n"
      ],
      "text/plain": [
       "  sex    ca Age ecg   \n",
       "1 female 0  28  low   \n",
       "2 male   1  42  low   \n",
       "3 female 0  46  medium\n",
       "4 male   0  45  medium\n",
       "5 female 0  34  low   \n",
       "6 male   1  44  low   "
      ]
     },
     "metadata": {},
     "output_type": "display_data"
    },
    {
     "data": {
      "text/plain": [
       "     sex           ca              Age            ecg    \n",
       " female:33   Min.   :0.0000   Min.   :28.00   high  :13  \n",
       " male  :45   1st Qu.:0.0000   1st Qu.:41.25   low   :33  \n",
       "             Median :1.0000   Median :46.50   medium:32  \n",
       "             Mean   :0.5256   Mean   :46.90              \n",
       "             3rd Qu.:1.0000   3rd Qu.:53.75              \n",
       "             Max.   :1.0000   Max.   :63.00              "
      ]
     },
     "metadata": {},
     "output_type": "display_data"
    }
   ],
   "source": [
    "data=read.csv(\"heart2.csv\")\n",
    "head(data)\n",
    "attach(data)\n",
    "summary(data)"
   ]
  },
  {
   "cell_type": "markdown",
   "metadata": {},
   "source": [
    "*The data collected from 87 individuals to study the relationship between age , sex and specific heart disease called (ca) .\n",
    "y=ca\n",
    "x1=sex\n",
    "x2=Age\n"
   ]
  },
  {
   "cell_type": "markdown",
   "metadata": {},
   "source": [
    "## 1-Which model you use and why?\n",
    "Since we study the relationship between variables the response variable from them have a binary data type , the response variable is heart disease called (ca) have \"yes/no\" data it is  categorical so Since that we use logistic regression ,by scatterplot we can describing data also we can know which model we should to use and th logistic regression have \"s\" shape in the plot."
   ]
  },
  {
   "cell_type": "code",
   "execution_count": 7,
   "metadata": {
    "scrolled": true
   },
   "outputs": [
    {
     "name": "stdout",
     "output_type": "stream",
     "text": [
      "'data.frame':\t78 obs. of  4 variables:\n",
      " $ sex: Factor w/ 2 levels \"female\",\"male\": 1 2 1 2 1 2 1 2 1 2 ...\n",
      " $ ca : Factor w/ 2 levels \"0\",\"1\": 1 2 1 1 1 2 2 2 1 1 ...\n",
      " $ Age: int  28 42 46 45 34 44 48 45 38 45 ...\n",
      " $ ecg: Factor w/ 3 levels \"high\",\"low\",\"medium\": 2 2 3 3 2 2 3 3 2 2 ...\n"
     ]
    }
   ],
   "source": [
    "str(data)\n",
    "data$ca <- as.factor(data$ca)\n",
    "#to show data type , as we see need to change ca to factor\n",
    "#in ca 0 = \"no\"  , 1 = \"yes\""
   ]
  },
  {
   "cell_type": "code",
   "execution_count": 6,
   "metadata": {
    "scrolled": true
   },
   "outputs": [
    {
     "data": {
      "image/png": "[encoded data removed]",
      "text/plain": [
       "plot without title"
      ]
     },
     "metadata": {},
     "output_type": "display_data"
    }
   ],
   "source": [
    "pairs(~Age+ca+sex,data=data,main=\"Simple Scatterplot Matrix\",pch=16,col=c(\"light pink\",\"light blue\",\"light green\"))"
   ]
  },
  {
   "cell_type": "code",
   "execution_count": 3,
   "metadata": {},
   "outputs": [
    {
     "data": {
      "text/plain": [
       "\n",
       "Call:\n",
       "glm(formula = ca ~ sex + Age, family = \"binomial\", data = data)\n",
       "\n",
       "Deviance Residuals: \n",
       "    Min       1Q   Median       3Q      Max  \n",
       "-1.8263  -1.0021   0.5216   1.0011   2.0901  \n",
       "\n",
       "Coefficients:\n",
       "            Estimate Std. Error z value Pr(>|z|)   \n",
       "(Intercept) -5.05727    1.68088  -3.009  0.00262 **\n",
       "sexmale      1.37281    0.52576   2.611  0.00903 **\n",
       "Age          0.09351    0.03337   2.803  0.00507 **\n",
       "---\n",
       "Signif. codes:  0 '***' 0.001 '**' 0.01 '*' 0.05 '.' 0.1 ' ' 1\n",
       "\n",
       "(Dispersion parameter for binomial family taken to be 1)\n",
       "\n",
       "    Null deviance: 107.926  on 77  degrees of freedom\n",
       "Residual deviance:  92.501  on 75  degrees of freedom\n",
       "AIC: 98.501\n",
       "\n",
       "Number of Fisher Scoring iterations: 3\n"
      ]
     },
     "metadata": {},
     "output_type": "display_data"
    }
   ],
   "source": [
    "model_ca <- glm(ca~sex+Age , data=data ,family=\"binomial\")\n",
    "summary(model_ca)"
   ]
  },
  {
   "cell_type": "markdown",
   "metadata": {},
   "source": [
    "log(odds)=-5.05727  +  1.37281 x1 + 0.09351 x2 \n",
    "testing by use α=0.05 \n",
    "Each unit increase in Age increases the log odds of heart disease (ca) by 0.09351 and p-value indicates that it is significant in heart disease (ca) when we assume sex is constant . \n",
    "x1 this variable , the patient is male, is equal to 0 when the patient is female and 1 when the patient is male .thus if we predicting heart disease for a female patient, we get the following equation:\n",
    "    heart disease = -5.05727  +  1.37281*0 + 0.09351 x2\n",
    "   heart disease = -5.05727  + 0.09351 x2\n",
    "Thus, the log(odds) that a female has heart disease = -5.05727  + 0.09351 x2\n",
    "if we predicting heart disease for a male patient, we get the following equation:\n",
    "heart disease = -5.05727  +  1.37281*1 + 0.09351 x2 \n",
    "heart disease = -5.05727 + 0.09351 x2 +  1.37281 \n",
    "Since this fist term is the log(odds) of a female having heart disease , the second term indicates the increase in the log(odds)by  1.37281  that a male has of having heart disease and p-value indicates that it is significant in heart disease (ca). \n"
   ]
  },
  {
   "cell_type": "markdown",
   "metadata": {},
   "source": [
    "## 2-Test the overall significance of your model.\n"
   ]
  },
  {
   "cell_type": "markdown",
   "metadata": {},
   "source": [
    "H0: the model as a whole is no better than the null model\n",
    "H1: the model as a whole is better than the null model"
   ]
  },
  {
   "cell_type": "code",
   "execution_count": 12,
   "metadata": {},
   "outputs": [
    {
     "data": {
      "text/html": [
       "15.4249638697773"
      ],
      "text/latex": [
       "15.4249638697773"
      ],
      "text/markdown": [
       "15.4249638697773"
      ],
      "text/plain": [
       "[1] 15.42496"
      ]
     },
     "metadata": {},
     "output_type": "display_data"
    }
   ],
   "source": [
    "with(model_ca,null.deviance - deviance) #Test statistic"
   ]
  },
  {
   "cell_type": "markdown",
   "metadata": {},
   "source": [
    "The degrees of freedom for the difference between the models is equal to the number of predictor variables and can obtained using:"
   ]
  },
  {
   "cell_type": "code",
   "execution_count": 13,
   "metadata": {},
   "outputs": [
    {
     "data": {
      "text/html": [
       "2"
      ],
      "text/latex": [
       "2"
      ],
      "text/markdown": [
       "2"
      ],
      "text/plain": [
       "[1] 2"
      ]
     },
     "metadata": {},
     "output_type": "display_data"
    }
   ],
   "source": [
    "with(model_ca,df.null - df.residual) #degree od freedom"
   ]
  },
  {
   "cell_type": "markdown",
   "metadata": {},
   "source": [
    "The p-value can be obtained using: "
   ]
  },
  {
   "cell_type": "code",
   "execution_count": 14,
   "metadata": {},
   "outputs": [
    {
     "data": {
      "text/html": [
       "0.000447210152107399"
      ],
      "text/latex": [
       "0.000447210152107399"
      ],
      "text/markdown": [
       "0.000447210152107399"
      ],
      "text/plain": [
       "[1] 0.0004472102"
      ]
     },
     "metadata": {},
     "output_type": "display_data"
    }
   ],
   "source": [
    "with(model_ca,pchisq(null.deviance - deviance,df.null - df.residual, lower.tail= FALSE))"
   ]
  },
  {
   "cell_type": "markdown",
   "metadata": {},
   "source": [
    "The chi-square of 15.425 with 2 degrees of freedom and an associated p-value of less than 0.05 tell us that as a whole fits significantly  better than an empty model."
   ]
  },
  {
   "cell_type": "code",
   "execution_count": 15,
   "metadata": {},
   "outputs": [
    {
     "data": {
      "text/plain": [
       "'log Lik.' -46.25039 (df=3)"
      ]
     },
     "metadata": {},
     "output_type": "display_data"
    }
   ],
   "source": [
    "logLik(model_ca) # to see the model's log likelihood"
   ]
  },
  {
   "cell_type": "markdown",
   "metadata": {},
   "source": [
    "## 3-Is age significantly associated with the heart disease."
   ]
  },
  {
   "cell_type": "code",
   "execution_count": 41,
   "metadata": {},
   "outputs": [
    {
     "data": {
      "text/plain": [
       "$W\n",
       "[1] 7.855042\n",
       "\n",
       "$pvalue\n",
       "[1] 0.005067918\n",
       "\n",
       "attr(,\"class\")\n",
       "[1] \"wald.test\""
      ]
     },
     "metadata": {},
     "output_type": "display_data"
    }
   ],
   "source": [
    "library(mdscore,lib.loc =\"C:/Users/Hessa/OneDrive/R\")\n",
    "library(MASS,lib.loc=\"C:/Users/Hessa/OneDrive/R\")\n",
    "wald.test(model_ca,term=3)"
   ]
  },
  {
   "cell_type": "markdown",
   "metadata": {},
   "source": [
    "H0:b2=0 Vs. H1: b2 not equal 0 (b2 since Age in x2 with my model)   testing by use α=0.05\n",
    "by 7.855042 from wald test statistic we have p-value=0.00507 whish is less than 0.05 , that is mean there is a association between age and heart disease."
   ]
  },
  {
   "cell_type": "markdown",
   "metadata": {},
   "source": [
    "## 4- According to the data, who is more likely to have the disease, men or female?and interpret the result.\n",
    "### Hint: Use odds ratios"
   ]
  },
  {
   "cell_type": "code",
   "execution_count": 60,
   "metadata": {},
   "outputs": [
    {
     "data": {
      "text/plain": [
       "   sex\n",
       "ca  female male\n",
       "  0     21   16\n",
       "  1     12   29"
      ]
     },
     "metadata": {},
     "output_type": "display_data"
    }
   ],
   "source": [
    "xtabs(~ca+sex, data=data) #0=\"no\" , 1=\"yes\" \n",
    "#1=\"male\"  , 0=\"female\""
   ]
  },
  {
   "cell_type": "code",
   "execution_count": 74,
   "metadata": {},
   "outputs": [
    {
     "data": {
      "text/html": [
       "3.171875"
      ],
      "text/latex": [
       "3.171875"
      ],
      "text/markdown": [
       "3.171875"
      ],
      "text/plain": [
       "[1] 3.171875"
      ]
     },
     "metadata": {},
     "output_type": "display_data"
    }
   ],
   "source": [
    "odds_ratio<-(29/16)/(12/21) # Manual\n",
    "odds_ratio"
   ]
  },
  {
   "cell_type": "code",
   "execution_count": 62,
   "metadata": {},
   "outputs": [],
   "source": [
    "library(fmsb,lib.loc =\"C:/Users/Hessa/OneDrive/R\")"
   ]
  },
  {
   "cell_type": "code",
   "execution_count": 76,
   "metadata": {},
   "outputs": [
    {
     "name": "stdout",
     "output_type": "stream",
     "text": [
      "           Disease Nondisease Total\n",
      "Exposed         29         16    45\n",
      "Nonexposed      12         21    33\n",
      "Total           41         37    78\n"
     ]
    },
    {
     "data": {
      "text/plain": [
       "\n",
       "\tOdds ratio estimate and its significance probability\n",
       "\n",
       "data:  29 12 16 21\n",
       "p-value = 0.01477\n",
       "95 percent confidence interval:\n",
       " 1.244316 8.085398\n",
       "sample estimates:\n",
       "[1] 3.171875\n"
      ]
     },
     "metadata": {},
     "output_type": "display_data"
    }
   ],
   "source": [
    "oddsratio(29,12,16,21)"
   ]
  },
  {
   "cell_type": "markdown",
   "metadata": {},
   "source": [
    "So 3.171875 is an estimate of the odds ratio between heart disease (ca) and sex , The men is more likely to have the disease 3.171875 almost 3 times comperd to female ."
   ]
  },
  {
   "cell_type": "markdown",
   "metadata": {},
   "source": [
    "## 5-Perform LOOCV. What can you conclude?"
   ]
  },
  {
   "cell_type": "code",
   "execution_count": 3,
   "metadata": {},
   "outputs": [],
   "source": [
    "library(lattice)\n",
    "library(caret)\n",
    "options(warn=-1)"
   ]
  },
  {
   "cell_type": "code",
   "execution_count": 9,
   "metadata": {},
   "outputs": [
    {
     "data": {
      "text/plain": [
       "Generalized Linear Model \n",
       "\n",
       "78 samples\n",
       " 2 predictor\n",
       "\n",
       "No pre-processing\n",
       "Resampling: Leave-One-Out Cross-Validation \n",
       "Summary of sample sizes: 77, 77, 77, 77, 77, 77, ... \n",
       "Resampling results:\n",
       "\n",
       "  RMSE       Rsquared  MAE      \n",
       "  0.4238694  NaN       0.4238694\n"
      ]
     },
     "metadata": {},
     "output_type": "display_data"
    }
   ],
   "source": [
    "model_ca <- glm(ca~sex+Age , data=data ,family=\"binomial\")\n",
    "\n",
    "loocv_model<-train(ca~ sex+Age , data=data , method=\"glm\", trControl=trainControl(method= \"loocv\"))\n",
    "loocv_model"
   ]
  },
  {
   "cell_type": "markdown",
   "metadata": {},
   "source": [
    "We use cross-validation to protect against overfitting in a predictive model. By refer to point 2 we see a whole fits significantly better than an empty model by p-value , so with LOOCV 0.42389 it is small numberso whish is tell us we do good estimation for the model."
   ]
  },
  {
   "cell_type": "markdown",
   "metadata": {},
   "source": [
    "## ROC"
   ]
  },
  {
   "cell_type": "code",
   "execution_count": 9,
   "metadata": {},
   "outputs": [],
   "source": [
    "library(pROC,lib.loc =\"C:/Users/Hessa/OneDrive/R\")\n",
    "library(randomForest,lib.loc =\"C:/Users/Hessa/OneDrive/R\")\n",
    "options(warn=-1)"
   ]
  },
  {
   "cell_type": "code",
   "execution_count": 8,
   "metadata": {},
   "outputs": [
    {
     "name": "stderr",
     "output_type": "stream",
     "text": [
      "Setting levels: control = 0, case = 1\n",
      "Setting direction: controls < cases\n"
     ]
    },
    {
     "data": {
      "text/plain": [
       "\n",
       "Call:\n",
       "roc.default(response = ca, predictor = new_model$fitted.values,     plot = TRUE, legacy.axes = TRUE, col = \"light pink\", lwd = 4)\n",
       "\n",
       "Data: new_model$fitted.values in 37 controls (ca 0) < 41 cases (ca 1).\n",
       "Area under the curve: 0.7465"
      ]
     },
     "metadata": {},
     "output_type": "display_data"
    },
    {
     "data": {
      "image/png": "[encoded data removed]",
      "text/plain": [
       "plot without title"
      ]
     },
     "metadata": {},
     "output_type": "display_data"
    }
   ],
   "source": [
    "options(warn=-1)\n",
    "new_model<-glm(ca~sex+Age ,family = \"binomial\")\n",
    "roc(ca,new_model$fitted.values,plot=TRUE,legacy.axes=TRUE,col=\"light pink\", lwd=4)"
   ]
  },
  {
   "cell_type": "markdown",
   "metadata": {},
   "source": [
    "Area under the curveis =0.747 , since it is greater than 0.5 that mean the model acceptable so bigger the area the better classifier."
   ]
  }
 ],
 "metadata": {
  "kernelspec": {
   "display_name": "R",
   "language": "R",
   "name": "ir"
  },
  "language_info": {
   "codemirror_mode": "r",
   "file_extension": ".r",
   "mimetype": "text/x-r-source",
   "name": "R",
   "pygments_lexer": "r",
   "version": "3.6.1"
  }
 },
 "nbformat": 4,
 "nbformat_minor": 4
}
